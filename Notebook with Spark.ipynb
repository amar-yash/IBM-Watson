{
    "cells": [
        {
            "cell_type": "code",
            "execution_count": 1,
            "metadata": {},
            "outputs": [
                {
                    "name": "stdout",
                    "output_type": "stream",
                    "text": "Waiting for a Spark session to start...\nSpark Initialization Done! ApplicationId = app-20211215064747-0000\nKERNEL_ID = 619adbcb-49d1-468c-b4ff-29bf27ee4555\n"
                },
                {
                    "data": {
                        "text/plain": "[Row(Test Case ID='1', Test Case Name='Name_1'),\n Row(Test Case ID='2', Test Case Name='Name_2'),\n Row(Test Case ID='3', Test Case Name='Name_3'),\n Row(Test Case ID='4', Test Case Name='Name_4'),\n Row(Test Case ID='5', Test Case Name='Name_5')]"
                    },
                    "execution_count": 1,
                    "metadata": {},
                    "output_type": "execute_result"
                }
            ],
            "source": "# The code was removed by Watson Studio for sharing."
        },
        {
            "cell_type": "code",
            "execution_count": null,
            "metadata": {},
            "outputs": [],
            "source": ""
        }
    ],
    "metadata": {
        "kernelspec": {
            "display_name": "Python 3.7 with Spark",
            "language": "python3",
            "name": "python37"
        },
        "language_info": {
            "codemirror_mode": {
                "name": "ipython",
                "version": 3
            },
            "file_extension": ".py",
            "mimetype": "text/x-python",
            "name": "python",
            "nbconvert_exporter": "python",
            "pygments_lexer": "ipython3",
            "version": "3.7.11"
        }
    },
    "nbformat": 4,
    "nbformat_minor": 1
}